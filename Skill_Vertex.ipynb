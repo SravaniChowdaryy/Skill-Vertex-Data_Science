{
  "nbformat": 4,
  "nbformat_minor": 0,
  "metadata": {
    "colab": {
      "name": "Skill_Vertex.ipynb",
      "private_outputs": true,
      "provenance": [],
      "collapsed_sections": [],
      "authorship_tag": "ABX9TyNgSbPqzC0T3CHeBflf5Vw8",
      "include_colab_link": true
    },
    "kernelspec": {
      "name": "python3",
      "display_name": "Python 3"
    },
    "language_info": {
      "name": "python"
    }
  },
  "cells": [
    {
      "cell_type": "markdown",
      "metadata": {
        "id": "view-in-github",
        "colab_type": "text"
      },
      "source": [
        "<a href=\"https://colab.research.google.com/github/SravaniChowdaryy/Skill-Vertex-Data_Science/blob/main/Skill_Vertex.ipynb\" target=\"_parent\"><img src=\"https://colab.research.google.com/assets/colab-badge.svg\" alt=\"Open In Colab\"/></a>"
      ]
    },
    {
      "cell_type": "code",
      "execution_count": null,
      "metadata": {
        "id": "salkP1mOU-su"
      },
      "outputs": [],
      "source": [
        "# for mathematical operations\n",
        "import numpy as np \n",
        "\n",
        "# for dataframe operations\n",
        "import pandas as pd \n",
        "\n",
        "# for data visualizations\n",
        "import matplotlib.pyplot as plt\n",
        "import seaborn as sns"
      ]
    },
    {
      "cell_type": "code",
      "source": [
        "# lets import the data\n",
        "data = pd.read_csv(\"/content/data - data.csv\")"
      ],
      "metadata": {
        "id": "si7PV_yfXbZo"
      },
      "execution_count": null,
      "outputs": []
    },
    {
      "cell_type": "code",
      "source": [
        "data = pd.read_csv(\"/content/data - data.csv\")"
      ],
      "metadata": {
        "id": "IyWSp_THVB77"
      },
      "execution_count": null,
      "outputs": []
    },
    {
      "cell_type": "code",
      "source": [
        "data.head()\n"
      ],
      "metadata": {
        "id": "n49Xi3FIWFXS"
      },
      "execution_count": null,
      "outputs": []
    },
    {
      "cell_type": "code",
      "source": [
        "data.columns\n"
      ],
      "metadata": {
        "id": "GpmjmHdsWISw"
      },
      "execution_count": null,
      "outputs": []
    },
    {
      "cell_type": "code",
      "source": [
        "data.shape"
      ],
      "metadata": {
        "id": "iRUQyCu1WLNV"
      },
      "execution_count": null,
      "outputs": []
    },
    {
      "cell_type": "markdown",
      "source": [
        "# Data cleaning"
      ],
      "metadata": {
        "id": "6YikKu63WRiQ"
      }
    },
    {
      "cell_type": "code",
      "source": [
        "# missing data \n",
        "\n",
        "# lets import warnings module\n",
        "import warnings\n",
        "warnings.filterwarnings('ignore')\n",
        "\n",
        "# lets calculate the total missing values in the data\n",
        "total = data.isnull().sum().sort_values(ascending = False)\n",
        "\n",
        "# lets calculate the percentage of missing values in the data\n",
        "percent = ((data.isnull().sum()/data.isnull().count())*100).sort_values(ascending = False)\n",
        "\n",
        "# lets store the above two values in a dataset called missing data\n",
        "missing_data = pd.concat([total, percent], axis=1, keys=['Total', 'Percent %'])\n",
        "\n",
        "# lets check the head of the data\n",
        "missing_data\n"
      ],
      "metadata": {
        "id": "8U7NYBarWOIe"
      },
      "execution_count": null,
      "outputs": []
    },
    {
      "cell_type": "code",
      "source": [
        "# filling the missing value for the continous variables for proper data visualization\n",
        "\n",
        "data['ShortPassing'].fillna(data['ShortPassing'].mean(), inplace = True)\n",
        "data['Volleys'].fillna(data['Volleys'].mean(), inplace = True)\n",
        "data['Dribbling'].fillna(data['Dribbling'].mean(), inplace = True)\n",
        "data['Curve'].fillna(data['Curve'].mean(), inplace = True)\n",
        "data['FKAccuracy'].fillna(data['FKAccuracy'], inplace = True)\n",
        "data['LongPassing'].fillna(data['LongPassing'].mean(), inplace = True)\n",
        "data['BallControl'].fillna(data['BallControl'].mean(), inplace = True)\n",
        "data['HeadingAccuracy'].fillna(data['HeadingAccuracy'].mean(), inplace = True)\n",
        "data['Finishing'].fillna(data['Finishing'].mean(), inplace = True)\n",
        "data['Crossing'].fillna(data['Crossing'].mean(), inplace = True)\n",
        "\n",
        "data['Weight'].fillna('200lbs', inplace = True)\n",
        "data['Contract Valid Until'].fillna(2019, inplace = True)\n",
        "data['Height'].fillna(\"5'11\", inplace = True)\n",
        "data['Loaned From'].fillna('None', inplace = True)\n",
        "data['Joined'].fillna('Jul 1, 2018', inplace = True)\n",
        "data['Jersey Number'].fillna(8, inplace = True)\n",
        "data['Body Type'].fillna('Normal', inplace = True)\n",
        "data['Position'].fillna('ST', inplace = True)\n",
        "data['Club'].fillna('No Club', inplace = True)\n",
        "data['Work Rate'].fillna('Medium/ Medium', inplace = True)\n",
        "data['Skill Moves'].fillna(data['Skill Moves'].median(), inplace = True)\n",
        "data['Weak Foot'].fillna(3, inplace = True)\n",
        "data['Preferred Foot'].fillna('Right', inplace = True)\n",
        "data['International Reputation'].fillna(1, inplace = True)\n",
        "data['Wage'].fillna('€200K', inplace = True)"
      ],
      "metadata": {
        "id": "VM6ZFO23WVdV"
      },
      "execution_count": null,
      "outputs": []
    },
    {
      "cell_type": "code",
      "source": [
        "pd.set_option('max_rows', 100)\n",
        "data.isnull().sum()"
      ],
      "metadata": {
        "id": "15J4dUf0WZtW"
      },
      "execution_count": null,
      "outputs": []
    },
    {
      "cell_type": "code",
      "source": [
        "# impute with 0 for rest of the columns\n",
        "data.fillna(0, inplace = True)\n",
        "\n",
        "# lets check whether the data still has any missing values\n",
        "data.isnull().sum().sum()"
      ],
      "metadata": {
        "id": "o_K8Y_XGWeTv"
      },
      "execution_count": null,
      "outputs": []
    },
    {
      "cell_type": "markdown",
      "source": [
        "# Univariate analysis"
      ],
      "metadata": {
        "id": "JOe-MZI9Whgd"
      }
    },
    {
      "cell_type": "code",
      "source": [
        "#Distributiong of Age variable\n",
        "#numerical data\n",
        "sns.distplot(data['Potential'])"
      ],
      "metadata": {
        "id": "oTxDG_3_Wjui"
      },
      "execution_count": null,
      "outputs": []
    },
    {
      "cell_type": "code",
      "source": [
        "#categorical data\n",
        "sns.countplot(data['Nationality'])"
      ],
      "metadata": {
        "id": "TrvpzzkwWm8V"
      },
      "execution_count": null,
      "outputs": []
    },
    {
      "cell_type": "markdown",
      "source": [
        "# Bivariate analysis"
      ],
      "metadata": {
        "id": "WVewzsAuWxL6"
      }
    },
    {
      "cell_type": "code",
      "source": [
        "sns.barplot(data['Club'], data['Overall'])\n"
      ],
      "metadata": {
        "id": "8-xU8wYGWqtP"
      },
      "execution_count": null,
      "outputs": []
    },
    {
      "cell_type": "code",
      "source": [
        "sns.scatterplot(data['Age'], data['Overall'])"
      ],
      "metadata": {
        "id": "uKBvkiAGW53I"
      },
      "execution_count": null,
      "outputs": []
    },
    {
      "cell_type": "markdown",
      "source": [
        "# Multivariate analysis"
      ],
      "metadata": {
        "id": "P7MSLaWIW8vb"
      }
    },
    {
      "cell_type": "code",
      "source": [
        "sns.heatmap(data.corr())"
      ],
      "metadata": {
        "id": "l72FeH5rW-MJ"
      },
      "execution_count": null,
      "outputs": []
    }
  ]
}